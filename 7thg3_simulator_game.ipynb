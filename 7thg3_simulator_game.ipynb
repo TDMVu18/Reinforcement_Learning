{
 "cells": [
  {
   "cell_type": "markdown",
   "metadata": {},
   "source": [
    "Q1: Trong một trò chơi cá cược. Mỗi lượt chơi, bạn chỉ được đặt cược $1. Nếu bạn thắng, bạn sẽ nhận được\n",
    "$1, nếu bạn thua bạn bị mất đi $1. Giả sử xác suất để bạn có thắng ở mỗi ván là p và xác suất bạn bị thua là\n",
    "q = 1−p. Gọi W0 là số tài sản ban đầu. Trò chơi sẽ kết thúc khi tài sản của bạn bằng 0 hoặc tài sản của bạn đạt\n",
    "đến một số N cho trước. Hãy viết chương trình mô phỏng, tính toán lại những yêu cầu sau biết rằng: W0 = $20\n",
    "\n"
   ]
  },
  {
   "cell_type": "markdown",
   "metadata": {},
   "source": [
    "(1) Tính xác suất bạn ra về tay trắng tương ứng với p = 0.25, 0.5, 0.75"
   ]
  },
  {
   "cell_type": "code",
   "execution_count": 15,
   "metadata": {},
   "outputs": [],
   "source": [
    "import numpy as np\n",
    "import scipy.stats as st\n",
    "from scipy.stats import bernoulli"
   ]
  },
  {
   "cell_type": "code",
   "execution_count": 87,
   "metadata": {},
   "outputs": [],
   "source": [
    "def simulator(nTrials, p, W0, N):\n",
    "   \"\"\"\n",
    "   Param:\n",
    "         p (float): Xác suất thắng mỗi lượt.\n",
    "         W0 (int): Tài sản ban đầu.\n",
    "         N (int): Mục tiêu (thắng).\n",
    "         nTrials (int): Số lượng ván chơi.\n",
    "\n",
    "   Return:\n",
    "         lossRound: số ván dừng do thua trắng tay.\n",
    "         winRound: số ván dừng do đạt được mục tiêu.\n",
    "   \"\"\"\n",
    "   Wcurrent = W0\n",
    "   winRound = 0\n",
    "   lossRound = 0\n",
    "   for i in range(nTrials):    \n",
    "      while Wcurrent > 0 and Wcurrent <N:\n",
    "         Wcurrent += 2.0*st.bernoulli.rvs(p) - 1.0 \n",
    "      if Wcurrent == 0:\n",
    "         lossRound +=1\n",
    "      else:\n",
    "         winRound +=1\n",
    "      Wcurrent = W0\n",
    "   return lossRound, winRound"
   ]
  },
  {
   "cell_type": "code",
   "execution_count": 95,
   "metadata": {},
   "outputs": [
    {
     "name": "stdout",
     "output_type": "stream",
     "text": [
      "total:  100  win:  0  loss:  100\n",
      "Xác suất thua trắng tay với p = 0.25 (sau 100 ván chơi): 1.0000\n",
      "total:  100  win:  21  loss:  79\n",
      "Xác suất thua trắng tay với p = 0.50 (sau 100 ván chơi): 0.7900\n",
      "total:  100  win:  100  loss:  0\n",
      "Xác suất thua trắng tay với p = 0.75 (sau 100 ván chơi): 0.0000\n"
     ]
    }
   ],
   "source": [
    "nTrials = 100\n",
    "W0 = 20\n",
    "N = 100\n",
    "pList = [0.25, 0.5, 0.75]\n",
    "for p in pList:\n",
    "    lossRound, winRound = simulator(nTrials, p, W0, N)\n",
    "    print(\"total: \", lossRound + winRound, \" win: \",  winRound, \" loss: \", lossRound)\n",
    "    lossProbability = lossRound/(winRound + lossRound)\n",
    "    print(f\"Xác suất thua trắng tay với p = {p:.2f} (sau {nTrials} ván chơi): {lossProbability:.4f}\")\n"
   ]
  },
  {
   "cell_type": "markdown",
   "metadata": {},
   "source": [
    "(2) Tính xác suất bạn thắng được N = $100, với p = 0.25, 0.5, 0.75\n"
   ]
  },
  {
   "cell_type": "code",
   "execution_count": 96,
   "metadata": {},
   "outputs": [
    {
     "name": "stdout",
     "output_type": "stream",
     "text": [
      "total:  100  win:  0  loss:  100\n",
      "Xác suất thắng đậm với 100$ với p = 0.25 (sau 100 ván chơi): 0.0000\n",
      "total:  100  win:  21  loss:  79\n",
      "Xác suất thắng đậm với 100$ với p = 0.50 (sau 100 ván chơi): 0.2100\n",
      "total:  100  win:  100  loss:  0\n",
      "Xác suất thắng đậm với 100$ với p = 0.75 (sau 100 ván chơi): 1.0000\n"
     ]
    }
   ],
   "source": [
    "for p in pList:\n",
    "    lossRound, winRound = simulator(nTrials, p, W0, N)\n",
    "    print(\"total: \", lossRound + winRound, \" win: \",  winRound, \" loss: \", lossRound)\n",
    "    lossProbability = winRound/(winRound + lossRound)\n",
    "    print(f\"Xác suất thắng đậm với 100$ với p = {p:.2f} (sau {nTrials} ván chơi): {lossProbability:.4f}\")"
   ]
  },
  {
   "cell_type": "markdown",
   "metadata": {},
   "source": [
    "(3) Nhận xét sự tương quan giữa tài sản khởi đầu và xác suất ra về tay trắng tương ứng với p = 0.25, 0.5, 0.75\n"
   ]
  },
  {
   "cell_type": "code",
   "execution_count": 110,
   "metadata": {},
   "outputs": [],
   "source": [
    "pList = [0.25, 0.5, 0.75]\n",
    "correlP = []\n",
    "for p in pList:\n",
    "    WList = list(range(20, 25))\n",
    "    probabilityList = []\n",
    "    for W0 in WList:\n",
    "        nTrials = 100\n",
    "        N = 100\n",
    "        lossRound, winRound = simulator(nTrials, p, W0, N)\n",
    "        lossProbability = lossRound/(winRound + lossRound)\n",
    "        probabilityList.append(lossProbability)\n",
    "    correlP.append(probabilityList)"
   ]
  },
  {
   "cell_type": "code",
   "execution_count": 131,
   "metadata": {},
   "outputs": [],
   "source": [
    "import seaborn as sns\n",
    "\n",
    "wRange = [float(i) for i in range(20, 25)]\n",
    "\n",
    "correlation = np.corrcoef(wRange, correlP[0])[0, 1]\n"
   ]
  },
  {
   "cell_type": "code",
   "execution_count": 139,
   "metadata": {},
   "outputs": [
    {
     "data": {
      "image/png": "[encoded data removed]",
      "text/plain": [
       "<Figure size 432x288 with 2 Axes>"
      ]
     },
     "metadata": {
      "needs_background": "light"
     },
     "output_type": "display_data"
    },
    {
     "data": {
      "image/png": "[encoded data removed]",
      "text/plain": [
       "<Figure size 432x288 with 2 Axes>"
      ]
     },
     "metadata": {
      "needs_background": "light"
     },
     "output_type": "display_data"
    },
    {
     "data": {
      "image/png": "[encoded data removed]",
      "text/plain": [
       "<Figure size 432x288 with 2 Axes>"
      ]
     },
     "metadata": {
      "needs_background": "light"
     },
     "output_type": "display_data"
    }
   ],
   "source": [
    "import matplotlib.pyplot as plt\n",
    "import pandas as pd\n",
    "for i, p in enumerate(pList):\n",
    "    df = pd.DataFrame({'W Range': wRange, 'Probability': correlP[i]})\n",
    "    sns.heatmap(df.corr(), annot=True)\n",
    "    plt.show()"
   ]
  },
  {
   "cell_type": "markdown",
   "metadata": {},
   "source": [
    "(4) Viết chương trình tính xác bạn ra về tay trắng với W0 = $100 và xác suất p nằm trong khoảng từ 0.1\n",
    "đến 0.9"
   ]
  }
 ],
 "metadata": {
  "kernelspec": {
   "display_name": "Python 3.9.1 64-bit",
   "language": "python",
   "name": "python3"
  },
  "language_info": {
   "codemirror_mode": {
    "name": "ipython",
    "version": 3
   },
   "file_extension": ".py",
   "mimetype": "text/x-python",
   "name": "python",
   "nbconvert_exporter": "python",
   "pygments_lexer": "ipython3",
   "version": "3.9.1"
  },
  "orig_nbformat": 4,
  "vscode": {
   "interpreter": {
    "hash": "6fff98fc3b3d81bd655c2cc48858186e4d9e2db7b515bf1c3221888f12a62f87"
   }
  }
 },
 "nbformat": 4,
 "nbformat_minor": 2
}
