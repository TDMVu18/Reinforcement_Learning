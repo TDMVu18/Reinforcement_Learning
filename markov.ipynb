{
 "cells": [
  {
   "cell_type": "code",
   "execution_count": 3,
   "metadata": {},
   "outputs": [],
   "source": [
    "import numpy as np\n",
    "import pandas as pd\n",
    "from pprint import pprint"
   ]
  },
  {
   "cell_type": "code",
   "execution_count": 51,
   "metadata": {},
   "outputs": [
    {
     "name": "stdout",
     "output_type": "stream",
     "text": [
      "[1. 1.]\n"
     ]
    }
   ],
   "source": [
    "P = np.array([\n",
    "    [0.25, 0.75],\n",
    "    [0.25, 0.75]\n",
    "])\n",
    "print(P0.sum(axis=1))"
   ]
  },
  {
   "cell_type": "code",
   "execution_count": null,
   "metadata": {},
   "outputs": [],
   "source": [
    "P0 = np.array([\n",
    "    [],\n",
    "    []\n",
    "])"
   ]
  },
  {
   "cell_type": "code",
   "execution_count": 49,
   "metadata": {},
   "outputs": [
    {
     "data": {
      "text/plain": [
       "array([[0.29960938, 0.89882813],\n",
       "       [0.20039063, 0.60117188]])"
      ]
     },
     "execution_count": 49,
     "metadata": {},
     "output_type": "execute_result"
    }
   ],
   "source": [
    "np.linalg.matrix_power(P, 7).T@P0"
   ]
  },
  {
   "cell_type": "code",
   "execution_count": 40,
   "metadata": {},
   "outputs": [],
   "source": []
  },
  {
   "cell_type": "code",
   "execution_count": 33,
   "metadata": {},
   "outputs": [
    {
     "name": "stdout",
     "output_type": "stream",
     "text": [
      "Xác suất thắng: 0.25\n",
      "Số lần thắng: 3\n",
      "Số lần thua: 23\n",
      "Thắng cuộc: False\n",
      "\n",
      "Xác suất ra về tay trắng: 0.03\n",
      "\n",
      "Xác suất thắng: 0.5\n",
      "Số lần thắng: 488\n",
      "Số lần thua: 508\n",
      "Thắng cuộc: False\n",
      "\n",
      "Xác suất ra về tay trắng: 0.056\n",
      "\n",
      "Xác suất thắng: 0.75\n",
      "Số lần thắng: 46\n",
      "Số lần thua: 16\n",
      "Thắng cuộc: True\n",
      "\n",
      "Xác suất ra về tay trắng: 0.028\n",
      "\n"
     ]
    }
   ],
   "source": [
    "import random\n",
    "\n",
    "def simulate_game(p, N, W0):\n",
    "  \"\"\"\n",
    "  Mô phỏng trò chơi cá cược.\n",
    "\n",
    "  Tham số:\n",
    "    p: Xác suất thắng\n",
    "    N: Mức tiền tối đa\n",
    "    W0: Số tiền ban đầu\n",
    "\n",
    "  Trả về:\n",
    "    Số lần thắng, số lần thua, và True nếu thắng, False nếu thua\n",
    "  \"\"\"\n",
    "  wins = 0\n",
    "  losses = 0\n",
    "  state = W0\n",
    "  while state > 0 and state < N:\n",
    "    win = random.random() < p\n",
    "    if win:\n",
    "      wins += 1\n",
    "      state += 1\n",
    "    else:\n",
    "      losses += 1\n",
    "      state -= 1\n",
    "  return wins, losses, state == N\n",
    "\n",
    "def calculate_probability_of_ruin(p, N, W0, n_simulations):\n",
    "  \"\"\"\n",
    "  Tính toán xác suất ra về tay trắng.\n",
    "\n",
    "  Tham số:\n",
    "    p: Xác suất thắng\n",
    "    N: Mức tiền tối đa\n",
    "    W0: Số tiền ban đầu\n",
    "    n_simulations: Số lần mô phỏng\n",
    "\n",
    "  Trả về:\n",
    "    Xác suất ra về tay trắng\n",
    "  \"\"\"\n",
    "  losses = 0\n",
    "  for _ in range(n_simulations):\n",
    "    _, losses, _ = simulate_game(p, N, W0)\n",
    "  return losses / n_simulations\n",
    "\n",
    "def main():\n",
    "  p_values = [0.25, 0.5, 0.75]\n",
    "  N = 50\n",
    "  W0 = 20\n",
    "  n_simulations = 1000\n",
    "  for p in p_values:\n",
    "    wins, losses, won = simulate_game(p, N, W0)\n",
    "    print(f\"Xác suất thắng: {p}\")\n",
    "    print(f\"Số lần thắng: {wins}\")\n",
    "    print(f\"Số lần thua: {losses}\")\n",
    "    print(f\"Thắng cuộc: {won}\")\n",
    "    print()\n",
    "    probability_of_ruin = calculate_probability_of_ruin(p, N, W0, n_simulations)\n",
    "    print(f\"Xác suất ra về tay trắng: {probability_of_ruin}\")\n",
    "    print()\n",
    "\n",
    "if __name__ == \"__main__\":\n",
    "  main()\n"
   ]
  }
 ],
 "metadata": {
  "kernelspec": {
   "display_name": "Python 3.12.0 64-bit",
   "language": "python",
   "name": "python3"
  },
  "language_info": {
   "codemirror_mode": {
    "name": "ipython",
    "version": 3
   },
   "file_extension": ".py",
   "mimetype": "text/x-python",
   "name": "python",
   "nbconvert_exporter": "python",
   "pygments_lexer": "ipython3",
   "version": "3.12.0"
  },
  "orig_nbformat": 4,
  "vscode": {
   "interpreter": {
    "hash": "32e8181fce7c3e359c2790b917cd539742ff129bf629b8ad82002a107951ad4e"
   }
  }
 },
 "nbformat": 4,
 "nbformat_minor": 2
}
