{
 "cells": [
  {
   "cell_type": "code",
   "execution_count": 1,
   "metadata": {},
   "outputs": [],
   "source": [
    "import numpy as np\n",
    "import pandas as pd\n",
    "from pprint import pprint"
   ]
  },
  {
   "cell_type": "code",
   "execution_count": 2,
   "metadata": {},
   "outputs": [],
   "source": [
    "P0 = np.array([\n",
    "    [0., 1.],\n",
    "    [0., 0.],\n",
    "    [1.0, 2.0]\n",
    "])"
   ]
  },
  {
   "cell_type": "code",
   "execution_count": 4,
   "metadata": {},
   "outputs": [
    {
     "data": {
      "text/plain": [
       "numpy.ndarray"
      ]
     },
     "execution_count": 4,
     "metadata": {},
     "output_type": "execute_result"
    }
   ],
   "source": [
    "type(P0)"
   ]
  },
  {
   "cell_type": "code",
   "execution_count": 9,
   "metadata": {},
   "outputs": [
    {
     "name": "stdout",
     "output_type": "stream",
     "text": [
      "[1. 1.]\n"
     ]
    }
   ],
   "source": [
    "P = np.array([\n",
    "    [0.25, 0.75],\n",
    "    [0.25, 0.75]\n",
    "])\n",
    "print(P.sum(axis=1))"
   ]
  },
  {
   "cell_type": "code",
   "execution_count": 11,
   "metadata": {},
   "outputs": [
    {
     "data": {
      "text/plain": [
       "array([[0.  , 0.25],\n",
       "       [0.  , 0.75]])"
      ]
     },
     "execution_count": 11,
     "metadata": {},
     "output_type": "execute_result"
    }
   ],
   "source": [
    "np.linalg.matrix_power(P, 7).T@P0"
   ]
  },
  {
   "cell_type": "code",
   "execution_count": 60,
   "metadata": {},
   "outputs": [],
   "source": [
    "import numpy as np\n",
    "import scipy.stats as st\n",
    "p = 0.25\n",
    "N = 100\n",
    "T = 1000"
   ]
  },
  {
   "cell_type": "code",
   "execution_count": 63,
   "metadata": {},
   "outputs": [],
   "source": [
    "for t in range(T):\n",
    "  W0 += 2.0*st.bernoulli.rvs(p) - 1.0"
   ]
  },
  {
   "cell_type": "code",
   "execution_count": 195,
   "metadata": {},
   "outputs": [],
   "source": []
  },
  {
   "cell_type": "code",
   "execution_count": 196,
   "metadata": {},
   "outputs": [
    {
     "data": {
      "text/plain": [
       "0.4"
      ]
     },
     "execution_count": 196,
     "metadata": {},
     "output_type": "execute_result"
    }
   ],
   "source": []
  },
  {
   "cell_type": "code",
   "execution_count": 62,
   "metadata": {},
   "outputs": [
    {
     "name": "stdout",
     "output_type": "stream",
     "text": [
      "Xác suất thua trắng tay với p = 0.25 (sau 10000 mô phỏng): 0.0000\n"
     ]
    }
   ],
   "source": [
    "import numpy as np\n",
    "import pandas as pd\n",
    "\n",
    "def simulate_game(p, W0, N, num_trials):\n",
    "  \"\"\"\n",
    "  Mô phỏng một trò chơi cá cược.\n",
    "\n",
    "  Tham số:\n",
    "      p (float): Xác suất thắng mỗi ván.\n",
    "      W0 (int): Tài sản ban đầu.\n",
    "      N (int): Mục tiêu tài sản (thắng) hoặc mức thua (thua).\n",
    "      num_trials (int): Số lượng ván chơi tối đa.\n",
    "\n",
    "  Trả về:\n",
    "      bool: True nếu thua trắng tay, False nếu không.\n",
    "  \"\"\"\n",
    "\n",
    "  num_games = 0\n",
    "  while W0 > 0 and W0 < N and num_games < num_trials:\n",
    "    if np.random.rand() < p:\n",
    "      W0 += 1\n",
    "    else:\n",
    "      W0 -= 1\n",
    "    num_games += 1\n",
    "\n",
    "  return W0 == 0\n",
    "\n",
    "def calculate_probabilities(p_values, W0, N, num_trials):\n",
    "  \"\"\"\n",
    "  Tính toán xác suất thua trắng (p_loss) và thắng N (p_win)\n",
    "  cho mỗi giá trị p trong danh sách.\n",
    "\n",
    "  Tham số:\n",
    "      p_values (list): Danh sách các giá trị xác suất.\n",
    "      W0 (int): Tài sản ban đầu.\n",
    "      N (int): Mục tiêu tài sản (thắng) hoặc mức thua (thua).\n",
    "      num_trials (int): Số lượng ván chơi tối đa.\n",
    "\n",
    "  Trả về:\n",
    "      DataFrame: Khung dữ liệu Pandas chứa các giá trị p, p_loss và p_win.\n",
    "  \"\"\"\n",
    "\n",
    "  results = []\n",
    "  for p in p_values:\n",
    "    num_losses = 0\n",
    "    for _ in range(num_trials):\n",
    "      if simulate_game(p, W0, N, num_trials):\n",
    "        num_losses += 1\n",
    "    p_loss = num_losses / num_trials\n",
    "    p_win = (W0 + num_trials - N) / num_trials  # Giả sử thắng nếu đạt tài sản N\n",
    "    results.append((p, p_loss, p_win))\n",
    "\n",
    "  df = pd.DataFrame(results, columns=[\"p\", \"Xác suất thua trắng\", \"Xác suất thắng N\"])\n",
    "  return df\n",
    "\n",
    "# Tham số\n",
    "p_values = [0.25, 0.5, 0.75]\n",
    "W0 = 20\n",
    "N = 20\n",
    "num_trials = 10000\n",
    "\n",
    "# Tính toán xác suất\n",
    "df = calculate_probabilities(p_values, W0, N, num_trials)\n",
    "\n",
    "# Hiển thị kết quả\n",
    "print(df.to_markdown())\n",
    "\n",
    "# Phân tích thêm (tùy chọn)\n",
    "# ...\n"
   ]
  }
 ],
 "metadata": {
  "kernelspec": {
   "display_name": "Python 3.9.1 64-bit",
   "language": "python",
   "name": "python3"
  },
  "language_info": {
   "codemirror_mode": {
    "name": "ipython",
    "version": 3
   },
   "file_extension": ".py",
   "mimetype": "text/x-python",
   "name": "python",
   "nbconvert_exporter": "python",
   "pygments_lexer": "ipython3",
   "version": "3.9.1"
  },
  "orig_nbformat": 4,
  "vscode": {
   "interpreter": {
    "hash": "6fff98fc3b3d81bd655c2cc48858186e4d9e2db7b515bf1c3221888f12a62f87"
   }
  }
 },
 "nbformat": 4,
 "nbformat_minor": 2
}
