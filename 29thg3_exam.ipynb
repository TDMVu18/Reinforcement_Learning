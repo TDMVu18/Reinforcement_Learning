{
 "cells": [
  {
   "cell_type": "code",
   "execution_count": 619,
   "metadata": {},
   "outputs": [],
   "source": [
    "import numpy as np"
   ]
  },
  {
   "cell_type": "code",
   "execution_count": 620,
   "metadata": {},
   "outputs": [],
   "source": [
    "V = np.zeros((6, 12))"
   ]
  },
  {
   "cell_type": "code",
   "execution_count": 621,
   "metadata": {},
   "outputs": [],
   "source": [
    "V[1,11]=-1\n",
    "V[0,11] = 1\n",
    "gamma = 0.9\n",
    "epsilon = 0.2\n",
    "Phi = 0.8"
   ]
  },
  {
   "cell_type": "code",
   "execution_count": 622,
   "metadata": {},
   "outputs": [
    {
     "data": {
      "text/plain": [
       "(6, 12)"
      ]
     },
     "execution_count": 622,
     "metadata": {},
     "output_type": "execute_result"
    }
   ],
   "source": [
    "V.shape"
   ]
  },
  {
   "cell_type": "code",
   "execution_count": 623,
   "metadata": {},
   "outputs": [
    {
     "data": {
      "text/plain": [
       "array([[ 0.,  0.,  0.,  0.,  0.,  0.,  0.,  0.,  0.,  0.,  0.,  1.],\n",
       "       [ 0.,  0.,  0.,  0.,  0.,  0.,  0.,  0.,  0.,  0.,  0., -1.],\n",
       "       [ 0.,  0.,  0.,  0.,  0.,  0.,  0.,  0.,  0.,  0.,  0.,  0.],\n",
       "       [ 0.,  0.,  0.,  0.,  0.,  0.,  0.,  0.,  0.,  0.,  0.,  0.],\n",
       "       [ 0.,  0.,  0.,  0.,  0.,  0.,  0.,  0.,  0.,  0.,  0.,  0.],\n",
       "       [ 0.,  0.,  0.,  0.,  0.,  0.,  0.,  0.,  0.,  0.,  0.,  0.]])"
      ]
     },
     "execution_count": 623,
     "metadata": {},
     "output_type": "execute_result"
    }
   ],
   "source": [
    "V"
   ]
  },
  {
   "cell_type": "code",
   "execution_count": 624,
   "metadata": {},
   "outputs": [],
   "source": [
    "def find_move(x,y, shape_v):\n",
    "  up = (x-1, y)\n",
    "  down = (x+1, y)\n",
    "  left = (x, y-1)\n",
    "  right = (x, y+1)\n",
    "\n",
    "  moves = [up, down, left, right]\n",
    "  \n",
    "  list_move = []\n",
    "  for move in moves:\n",
    "    for i, elem in enumerate(move):\n",
    "      if elem < 0:\n",
    "        break\n",
    "      elif elem >= shape_v[i]:\n",
    "        break\n",
    "      if i:\n",
    "        list_move.append(move)\n",
    "  return list_move"
   ]
  },
  {
   "cell_type": "code",
   "execution_count": 625,
   "metadata": {},
   "outputs": [
    {
     "data": {
      "text/plain": [
       "22"
      ]
     },
     "execution_count": 625,
     "metadata": {},
     "output_type": "execute_result"
    }
   ],
   "source": [
    "block = [\n",
    "(0, 4), (0, 8), \n",
    "(1, 4), (1, 6), (1, 8), \n",
    "(2, 1), (2, 2), (2, 4), (2, 6), (2, 8),\n",
    "(3, 1), (3, 6), (3, 8),\n",
    "(4, 1), (4, 2), (4, 3), (4, 4), (4, 5), (4, 6), (4, 8), (4, 9),\n",
    "(5, 4)\n",
    "]\n",
    "len(block)"
   ]
  },
  {
   "cell_type": "code",
   "execution_count": 626,
   "metadata": {},
   "outputs": [],
   "source": [
    "results = []\n",
    "for x in range(len(V)):\n",
    "  for y in range(len(V[0])):\n",
    "    if (x, y) in block:\n",
    "      continue\n",
    "    list_move = find_move(x, y, V.shape)\n",
    "    for move in list_move:\n",
    "      for block_move in block:\n",
    "        if move == block_move:\n",
    "          list_move.remove(move)\n",
    "    dict_move = {\"cell\": (x, y), \"moves\": list_move}\n",
    "    results.append(dict_move)"
   ]
  },
  {
   "cell_type": "code",
   "execution_count": 627,
   "metadata": {},
   "outputs": [],
   "source": [
    "for blockCell in block:\n",
    "    V[blockCell[0]][blockCell[1]] = -100"
   ]
  },
  {
   "cell_type": "code",
   "execution_count": 628,
   "metadata": {},
   "outputs": [
    {
     "data": {
      "text/plain": [
       "array([[   0.,    0.,    0.,    0., -100.,    0.,    0.,    0., -100.,\n",
       "           0.,    0.,    1.],\n",
       "       [   0.,    0.,    0.,    0., -100.,    0., -100.,    0., -100.,\n",
       "           0.,    0.,   -1.],\n",
       "       [   0., -100., -100.,    0., -100.,    0., -100.,    0., -100.,\n",
       "           0.,    0.,    0.],\n",
       "       [   0., -100.,    0.,    0.,    0.,    0., -100.,    0., -100.,\n",
       "           0.,    0.,    0.],\n",
       "       [   0., -100., -100., -100., -100., -100., -100.,    0., -100.,\n",
       "        -100.,    0.,    0.],\n",
       "       [   0.,    0.,    0.,    0., -100.,    0.,    0.,    0.,    0.,\n",
       "           0.,    0.,    0.]])"
      ]
     },
     "execution_count": 628,
     "metadata": {},
     "output_type": "execute_result"
    }
   ],
   "source": [
    "V"
   ]
  },
  {
   "cell_type": "code",
   "execution_count": 629,
   "metadata": {},
   "outputs": [
    {
     "data": {
      "text/plain": [
       "[{'cell': (0, 0), 'moves': [(1, 0), (0, 1)]},\n",
       " {'cell': (0, 1), 'moves': [(1, 1), (0, 0), (0, 2)]},\n",
       " {'cell': (0, 2), 'moves': [(1, 2), (0, 1), (0, 3)]},\n",
       " {'cell': (0, 3), 'moves': [(1, 3), (0, 2)]},\n",
       " {'cell': (0, 5), 'moves': [(1, 5), (0, 6)]},\n",
       " {'cell': (0, 6), 'moves': [(0, 5), (0, 7)]},\n",
       " {'cell': (0, 7), 'moves': [(1, 7), (0, 6)]},\n",
       " {'cell': (0, 9), 'moves': [(1, 9), (0, 10)]},\n",
       " {'cell': (0, 10), 'moves': [(1, 10), (0, 9), (0, 11)]},\n",
       " {'cell': (0, 11), 'moves': [(1, 11), (0, 10)]},\n",
       " {'cell': (1, 0), 'moves': [(0, 0), (2, 0), (1, 1)]},\n",
       " {'cell': (1, 1), 'moves': [(0, 1), (1, 0), (1, 2)]},\n",
       " {'cell': (1, 2), 'moves': [(0, 2), (1, 1), (1, 3)]},\n",
       " {'cell': (1, 3), 'moves': [(0, 3), (2, 3), (1, 2)]},\n",
       " {'cell': (1, 5), 'moves': [(0, 5), (2, 5), (1, 6)]},\n",
       " {'cell': (1, 7), 'moves': [(0, 7), (2, 7), (1, 8)]},\n",
       " {'cell': (1, 9), 'moves': [(0, 9), (2, 9), (1, 10)]},\n",
       " {'cell': (1, 10), 'moves': [(0, 10), (2, 10), (1, 9), (1, 11)]},\n",
       " {'cell': (1, 11), 'moves': [(0, 11), (2, 11), (1, 10)]},\n",
       " {'cell': (2, 0), 'moves': [(1, 0), (3, 0)]},\n",
       " {'cell': (2, 3), 'moves': [(1, 3), (3, 3), (2, 4)]},\n",
       " {'cell': (2, 5), 'moves': [(1, 5), (3, 5), (2, 6)]},\n",
       " {'cell': (2, 7), 'moves': [(1, 7), (3, 7), (2, 8)]},\n",
       " {'cell': (2, 9), 'moves': [(1, 9), (3, 9), (2, 10)]},\n",
       " {'cell': (2, 10), 'moves': [(1, 10), (3, 10), (2, 9), (2, 11)]},\n",
       " {'cell': (2, 11), 'moves': [(1, 11), (3, 11), (2, 10)]},\n",
       " {'cell': (3, 0), 'moves': [(2, 0), (4, 0)]},\n",
       " {'cell': (3, 2), 'moves': [(4, 2), (3, 3)]},\n",
       " {'cell': (3, 3), 'moves': [(2, 3), (3, 2), (3, 4)]},\n",
       " {'cell': (3, 4), 'moves': [(4, 4), (3, 3), (3, 5)]},\n",
       " {'cell': (3, 5), 'moves': [(2, 5), (3, 4)]},\n",
       " {'cell': (3, 7), 'moves': [(2, 7), (4, 7), (3, 8)]},\n",
       " {'cell': (3, 9), 'moves': [(2, 9), (3, 8), (3, 10)]},\n",
       " {'cell': (3, 10), 'moves': [(2, 10), (4, 10), (3, 9), (3, 11)]},\n",
       " {'cell': (3, 11), 'moves': [(2, 11), (4, 11), (3, 10)]},\n",
       " {'cell': (4, 0), 'moves': [(3, 0), (5, 0)]},\n",
       " {'cell': (4, 7), 'moves': [(3, 7), (5, 7), (4, 8)]},\n",
       " {'cell': (4, 10), 'moves': [(3, 10), (5, 10), (4, 11)]},\n",
       " {'cell': (4, 11), 'moves': [(3, 11), (5, 11), (4, 10)]},\n",
       " {'cell': (5, 0), 'moves': [(4, 0), (5, 1)]},\n",
       " {'cell': (5, 1), 'moves': [(5, 0), (5, 2)]},\n",
       " {'cell': (5, 2), 'moves': [(5, 1), (5, 3)]},\n",
       " {'cell': (5, 3), 'moves': [(5, 2)]},\n",
       " {'cell': (5, 5), 'moves': [(5, 4), (5, 6)]},\n",
       " {'cell': (5, 6), 'moves': [(5, 5), (5, 7)]},\n",
       " {'cell': (5, 7), 'moves': [(4, 7), (5, 6), (5, 8)]},\n",
       " {'cell': (5, 8), 'moves': [(5, 7), (5, 9)]},\n",
       " {'cell': (5, 9), 'moves': [(5, 8), (5, 10)]},\n",
       " {'cell': (5, 10), 'moves': [(4, 10), (5, 9), (5, 11)]},\n",
       " {'cell': (5, 11), 'moves': [(4, 11), (5, 10)]}]"
      ]
     },
     "execution_count": 629,
     "metadata": {},
     "output_type": "execute_result"
    }
   ],
   "source": [
    "results"
   ]
  },
  {
   "cell_type": "code",
   "execution_count": 630,
   "metadata": {},
   "outputs": [],
   "source": [
    "def cal_cell_val(x, y, dict_move):\n",
    "    for move in dict_move:\n",
    "        if move[\"cell\"] == (x , y):\n",
    "            move_list = move[\"moves\"]\n",
    "            break\n",
    "    value_range = []\n",
    "    for i in range(len(move_list)):\n",
    "        marked = move_list[i]\n",
    "        sum = 0\n",
    "        for j in move_list:\n",
    "            if j == marked:\n",
    "                sum += Phi * (0.0+gamma*V[marked])\n",
    "            else:\n",
    "                sum += epsilon/(len(move_list)-1)*(0.0+gamma*V[j])\n",
    "        value_range.append(sum)\n",
    "    return max(value_range)"
   ]
  },
  {
   "cell_type": "code",
   "execution_count": 631,
   "metadata": {},
   "outputs": [
    {
     "data": {
      "text/plain": [
       "0.7200000000000001"
      ]
     },
     "execution_count": 631,
     "metadata": {},
     "output_type": "execute_result"
    }
   ],
   "source": [
    "cal_cell_val(0, 10, results)\n"
   ]
  },
  {
   "cell_type": "code",
   "execution_count": 632,
   "metadata": {},
   "outputs": [
    {
     "data": {
      "text/plain": [
       "array([[   0.,    0.,    0.,    0., -100.,    0.,    0.,    0., -100.,\n",
       "           0.,    0.,    1.],\n",
       "       [   0.,    0.,    0.,    0., -100.,    0., -100.,    0., -100.,\n",
       "           0.,    0.,   -1.],\n",
       "       [   0., -100., -100.,    0., -100.,    0., -100.,    0., -100.,\n",
       "           0.,    0.,    0.],\n",
       "       [   0., -100.,    0.,    0.,    0.,    0., -100.,    0., -100.,\n",
       "           0.,    0.,    0.],\n",
       "       [   0., -100., -100., -100., -100., -100., -100.,    0., -100.,\n",
       "        -100.,    0.,    0.],\n",
       "       [   0.,    0.,    0.,    0., -100.,    0.,    0.,    0.,    0.,\n",
       "           0.,    0.,    0.]])"
      ]
     },
     "execution_count": 632,
     "metadata": {},
     "output_type": "execute_result"
    }
   ],
   "source": [
    "V"
   ]
  },
  {
   "cell_type": "code",
   "execution_count": 633,
   "metadata": {},
   "outputs": [],
   "source": [
    "for count in range(50):\n",
    "    for i in range(len(V)):\n",
    "        for j in range(len(V[0])):\n",
    "            check = False\n",
    "            if ((i, j) in block):\n",
    "                check = True\n",
    "            if check == False: \n",
    "                V[i][j] = cal_cell_val(x, y , results)\n",
    "             "
   ]
  },
  {
   "cell_type": "code",
   "execution_count": 634,
   "metadata": {},
   "outputs": [
    {
     "data": {
      "text/plain": [
       "array([[   0.,    0.,    0.,    0., -100.,    0.,    0.,    0., -100.,\n",
       "           0.,    0.,    0.],\n",
       "       [   0.,    0.,    0.,    0., -100.,    0., -100.,    0., -100.,\n",
       "           0.,    0.,    0.],\n",
       "       [   0., -100., -100.,    0., -100.,    0., -100.,    0., -100.,\n",
       "           0.,    0.,    0.],\n",
       "       [   0., -100.,    0.,    0.,    0.,    0., -100.,    0., -100.,\n",
       "           0.,    0.,    0.],\n",
       "       [   0., -100., -100., -100., -100., -100., -100.,    0., -100.,\n",
       "        -100.,    0.,    0.],\n",
       "       [   0.,    0.,    0.,    0., -100.,    0.,    0.,    0.,    0.,\n",
       "           0.,    0.,    0.]])"
      ]
     },
     "execution_count": 634,
     "metadata": {},
     "output_type": "execute_result"
    }
   ],
   "source": [
    "V"
   ]
  }
 ],
 "metadata": {
  "kernelspec": {
   "display_name": "Python 3.12.0 64-bit",
   "language": "python",
   "name": "python3"
  },
  "language_info": {
   "codemirror_mode": {
    "name": "ipython",
    "version": 3
   },
   "file_extension": ".py",
   "mimetype": "text/x-python",
   "name": "python",
   "nbconvert_exporter": "python",
   "pygments_lexer": "ipython3",
   "version": "3.12.0"
  },
  "orig_nbformat": 4,
  "vscode": {
   "interpreter": {
    "hash": "32e8181fce7c3e359c2790b917cd539742ff129bf629b8ad82002a107951ad4e"
   }
  }
 },
 "nbformat": 4,
 "nbformat_minor": 2
}
