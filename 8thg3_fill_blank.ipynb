{
 "cells": [
  {
   "cell_type": "code",
   "execution_count": 59,
   "metadata": {},
   "outputs": [
    {
     "name": "stdout",
     "output_type": "stream",
     "text": [
      "Fill: [0. 0. 0. 0. 0. 0. 0. 0. 0. 0.]\n",
      "10\n",
      "Bước 0 hợp lệ, vị trí điền vào là 1, list sau bước 0:\n",
      " [1. 0. 0. 0. 0. 0. 0. 0. 0. 0.]\n",
      "Bước 1 hợp lệ, vị trí điền vào là 4, list sau bước 1:\n",
      " [1. 0. 0. 1. 0. 0. 0. 0. 0. 0.]\n",
      "Bước 2 không hợp lệ, vị trí 1 đã có giá tri\n",
      "Bước 2 hợp lệ, vị trí điền vào là 5, list sau bước 2:\n",
      " [1. 0. 0. 1. 1. 0. 0. 0. 0. 0.]\n",
      "Bước 3 hợp lệ, vị trí điền vào là 9, list sau bước 3:\n",
      " [1. 0. 0. 1. 1. 0. 0. 0. 1. 0.]\n",
      "Bước 4 không hợp lệ, vị trí 9 đã có giá tri\n",
      "Bước 4 hợp lệ, vị trí điền vào là 8, list sau bước 4:\n",
      " [1. 0. 0. 1. 1. 0. 0. 1. 1. 0.]\n",
      "Bước 5 không hợp lệ, vị trí 5 đã có giá tri\n",
      "Bước 5 hợp lệ, vị trí điền vào là 6, list sau bước 5:\n",
      " [1. 0. 0. 1. 1. 1. 0. 1. 1. 0.]\n",
      "Bước 6 không hợp lệ, vị trí 6 đã có giá tri\n",
      "Bước 6 hợp lệ, vị trí điền vào là 3, list sau bước 6:\n",
      " [1. 0. 1. 1. 1. 1. 0. 1. 1. 0.]\n",
      "Bước 7 không hợp lệ, vị trí 5 đã có giá tri\n",
      "Bước 7 không hợp lệ, vị trí 1 đã có giá tri\n",
      "Bước 7 không hợp lệ, vị trí 8 đã có giá tri\n",
      "Bước 7 không hợp lệ, vị trí 1 đã có giá tri\n",
      "Bước 7 không hợp lệ, vị trí 5 đã có giá tri\n",
      "Bước 7 không hợp lệ, vị trí 5 đã có giá tri\n",
      "Bước 7 không hợp lệ, vị trí 6 đã có giá tri\n",
      "Bước 7 không hợp lệ, vị trí 9 đã có giá tri\n",
      "Bước 7 hợp lệ, vị trí điền vào là 10, list sau bước 7:\n",
      " [1. 0. 1. 1. 1. 1. 0. 1. 1. 1.]\n",
      "Bước 8 không hợp lệ, vị trí 3 đã có giá tri\n",
      "Bước 8 không hợp lệ, vị trí 9 đã có giá tri\n",
      "Bước 8 không hợp lệ, vị trí 9 đã có giá tri\n",
      "Bước 8 hợp lệ, vị trí điền vào là 2, list sau bước 8:\n",
      " [1. 1. 1. 1. 1. 1. 0. 1. 1. 1.]\n",
      "Bước 9 không hợp lệ, vị trí 10 đã có giá tri\n",
      "Bước 9 không hợp lệ, vị trí 2 đã có giá tri\n",
      "Bước 9 không hợp lệ, vị trí 4 đã có giá tri\n",
      "Bước 9 không hợp lệ, vị trí 8 đã có giá tri\n",
      "Bước 9 không hợp lệ, vị trí 1 đã có giá tri\n",
      "Bước 9 không hợp lệ, vị trí 8 đã có giá tri\n",
      "Bước 9 không hợp lệ, vị trí 6 đã có giá tri\n",
      "Bước 9 không hợp lệ, vị trí 1 đã có giá tri\n",
      "Bước 9 hợp lệ, vị trí điền vào là 7, list sau bước 9:\n",
      " [1. 1. 1. 1. 1. 1. 1. 1. 1. 1.]\n",
      "Bước 10 không hợp lệ, vị trí 5 đã có giá tri\n",
      "Thứ tự các bước có thể giải quyết là:  [1, 4, 5, 9, 8, 6, 3, 10, 2, 7]\n"
     ]
    }
   ],
   "source": [
    "import random\n",
    "import numpy as np\n",
    "\n",
    "def gen_list(length):\n",
    "  return [random.randint(0, 1) for _ in range(length)]\n",
    "\n",
    "def main():\n",
    "    randomList = np.zeros(10)\n",
    "    print(f\"Fill: {randomList}\")\n",
    "    numSafe = list(randomList).count(0)\n",
    "    print(numSafe)\n",
    "    step = 0\n",
    "    way = []\n",
    "    while step < numSafe:\n",
    "      checkList = randomList\n",
    "      while True:\n",
    "          position = random.randint(0, len(checkList) - 1)\n",
    "          if checkList[position] == 1:\n",
    "              print(f\"Bước {step} không hợp lệ, vị trí {position + 1} đã có giá tri\")\n",
    "              break\n",
    "          checkList[position] = 1\n",
    "          print(f\"Bước {step} hợp lệ, vị trí điền vào là {position + 1}, list sau bước {step}:\\n {checkList}\")\n",
    "          way.append(position + 1)\n",
    "          step += 1\n",
    "    print(\"Thứ tự các bước có thể giải quyết là: \", way)\n",
    "\n",
    "if __name__ == \"__main__\":\n",
    "  main()"
   ]
  },
  {
   "cell_type": "code",
   "execution_count": null,
   "metadata": {},
   "outputs": [],
   "source": []
  }
 ],
 "metadata": {
  "kernelspec": {
   "display_name": "Python 3.9.1 64-bit",
   "language": "python",
   "name": "python3"
  },
  "language_info": {
   "codemirror_mode": {
    "name": "ipython",
    "version": 3
   },
   "file_extension": ".py",
   "mimetype": "text/x-python",
   "name": "python",
   "nbconvert_exporter": "python",
   "pygments_lexer": "ipython3",
   "version": "3.9.1"
  },
  "orig_nbformat": 4,
  "vscode": {
   "interpreter": {
    "hash": "6fff98fc3b3d81bd655c2cc48858186e4d9e2db7b515bf1c3221888f12a62f87"
   }
  }
 },
 "nbformat": 4,
 "nbformat_minor": 2
}
